{
 "cells": [
  {
   "cell_type": "code",
   "execution_count": 1,
   "metadata": {},
   "outputs": [
    {
     "name": "stdout",
     "output_type": "stream",
     "text": [
      "the sum of 37.69 and 17.73 is 55.42\n"
     ]
    }
   ],
   "source": [
    "#python program to add two numbers\n",
    "\n",
    "#expample 1:add two number\n",
    "\n",
    "num1=37.69\n",
    "num2=17.73\n",
    "\n",
    "sum= num1+num2\n",
    "print(\"the sum of {0} and {1} is {2}\".format(num1,num2,sum))"
   ]
  },
  {
   "cell_type": "code",
   "execution_count": null,
   "metadata": {},
   "outputs": [],
   "source": []
  },
  {
   "cell_type": "code",
   "execution_count": 2,
   "metadata": {},
   "outputs": [
    {
     "name": "stdout",
     "output_type": "stream",
     "text": [
      "   February 2021\n",
      "Mo Tu We Th Fr Sa Su\n",
      " 1  2  3  4  5  6  7\n",
      " 8  9 10 11 12 13 14\n",
      "15 16 17 18 19 20 21\n",
      "22 23 24 25 26 27 28\n",
      "\n"
     ]
    }
   ],
   "source": [
    "# Python program to display calendar of  \n",
    "# given month of the year  \n",
    "import calendar  \n",
    "    \n",
    "yy = 2021\n",
    "mm = 2  \n",
    "print(calendar.month(yy,mm))"
   ]
  },
  {
   "cell_type": "code",
   "execution_count": null,
   "metadata": {},
   "outputs": [],
   "source": []
  },
  {
   "cell_type": "code",
   "execution_count": 3,
   "metadata": {},
   "outputs": [
    {
     "name": "stdout",
     "output_type": "stream",
     "text": [
      "the value of pi is 3.141592653589793\n"
     ]
    }
   ],
   "source": [
    "#let us find the value of \"pi\"\n",
    "\n",
    "import math\n",
    "print(\"the value of pi is\",math.pi)"
   ]
  },
  {
   "cell_type": "code",
   "execution_count": null,
   "metadata": {},
   "outputs": [],
   "source": []
  },
  {
   "cell_type": "code",
   "execution_count": null,
   "metadata": {},
   "outputs": [],
   "source": [
    "#add two number with user input"
   ]
  },
  {
   "cell_type": "code",
   "execution_count": 4,
   "metadata": {},
   "outputs": [
    {
     "name": "stdout",
     "output_type": "stream",
     "text": [
      "Enter first number: 55.66\n",
      "Enter second number: 66.3\n",
      "The sum of 55.66 and 66.3 is 121.96\n"
     ]
    }
   ],
   "source": [
    "num1 = input('Enter first number: ')\n",
    "num2 = input('Enter second number: ')\n",
    "\n",
    "sum = float(num1) + float(num2)\n",
    "\n",
    "print('The sum of {0} and {1} is {2}'.format(num1, num2, sum))"
   ]
  },
  {
   "cell_type": "code",
   "execution_count": null,
   "metadata": {},
   "outputs": [],
   "source": []
  },
  {
   "cell_type": "code",
   "execution_count": null,
   "metadata": {},
   "outputs": [],
   "source": [
    "#Assignment day 4"
   ]
  },
  {
   "cell_type": "code",
   "execution_count": null,
   "metadata": {},
   "outputs": [],
   "source": [
    "\n",
    "\n",
    "#python program to subtract two numbers \n",
    "\n",
    "\n"
   ]
  },
  {
   "cell_type": "code",
   "execution_count": 6,
   "metadata": {},
   "outputs": [
    {
     "name": "stdout",
     "output_type": "stream",
     "text": [
      "the sum of 37 and 17 is 20\n"
     ]
    }
   ],
   "source": [
    "num1=37\n",
    "num2=17\n",
    "\n",
    "sum= num1-num2\n",
    "print(\"the sum of {0} and {1} is {2}\".format(num1,num2,sum))"
   ]
  },
  {
   "cell_type": "code",
   "execution_count": 7,
   "metadata": {},
   "outputs": [
    {
     "name": "stdout",
     "output_type": "stream",
     "text": [
      "Enter first number: 5.5\n",
      "Enter second number: 3.5\n",
      "The sum of 5.5 and 3.5 is 2.0\n"
     ]
    }
   ],
   "source": [
    "#python program to subtract two floating numbers \n",
    "\n",
    "num1 = input('Enter first number: ')\n",
    "num2 = input('Enter second number: ')\n",
    "\n",
    "sum = float(num1) - float(num2)\n",
    "\n",
    "print('The sum of {0} and {1} is {2}'.format(num1, num2, sum))"
   ]
  },
  {
   "cell_type": "code",
   "execution_count": null,
   "metadata": {},
   "outputs": [],
   "source": []
  },
  {
   "cell_type": "code",
   "execution_count": 12,
   "metadata": {},
   "outputs": [
    {
     "name": "stdout",
     "output_type": "stream",
     "text": [
      "the sum of 10 and 5 is 50\n"
     ]
    }
   ],
   "source": [
    "#program to multiply two numbers \n",
    "num1=10\n",
    "num2=5\n",
    "\n",
    "sum= num1*num2\n",
    "print(\"the sum of {0} and {1} is {2}\".format(num1,num2,sum))"
   ]
  },
  {
   "cell_type": "code",
   "execution_count": 13,
   "metadata": {},
   "outputs": [
    {
     "name": "stdout",
     "output_type": "stream",
     "text": [
      "Enter first number: 50.5\n",
      "Enter second number: 40.3\n",
      "The sum of 50.5 and 40.3 is 2035.1499999999999\n"
     ]
    }
   ],
   "source": [
    "#program to multiply two floating numbers \n",
    "\n",
    "num1 = input('Enter first number: ')\n",
    "num2 = input('Enter second number: ')\n",
    "\n",
    "sum = float(num1) * float(num2)\n",
    "\n",
    "print('The sum of {0} and {1} is {2}'.format(num1, num2, sum))"
   ]
  },
  {
   "cell_type": "code",
   "execution_count": null,
   "metadata": {},
   "outputs": [],
   "source": []
  },
  {
   "cell_type": "code",
   "execution_count": 14,
   "metadata": {},
   "outputs": [
    {
     "name": "stdout",
     "output_type": "stream",
     "text": [
      "the sum of 10 and 5 is 2.0\n"
     ]
    }
   ],
   "source": [
    "#program to divide two numbers\n",
    "\n",
    "num1=10\n",
    "num2=5\n",
    "\n",
    "sum= num1/num2\n",
    "print(\"the sum of {0} and {1} is {2}\".format(num1,num2,sum))"
   ]
  },
  {
   "cell_type": "code",
   "execution_count": 15,
   "metadata": {},
   "outputs": [
    {
     "name": "stdout",
     "output_type": "stream",
     "text": [
      "Enter first number: 5.5\n",
      "Enter second number: 2.1\n",
      "The sum of 5.5 and 2.1 is 2.619047619047619\n"
     ]
    }
   ],
   "source": [
    "#program to divide two floating numbers \n",
    "\n",
    "num1 = input('Enter first number: ')\n",
    "num2 = input('Enter second number: ')\n",
    "\n",
    "sum = float(num1) / float(num2)\n",
    "\n",
    "print('The sum of {0} and {1} is {2}'.format(num1, num2, sum))"
   ]
  },
  {
   "cell_type": "code",
   "execution_count": null,
   "metadata": {},
   "outputs": [],
   "source": []
  },
  {
   "cell_type": "code",
   "execution_count": 64,
   "metadata": {},
   "outputs": [
    {
     "name": "stdout",
     "output_type": "stream",
     "text": [
      "maximum number is:- 6\n",
      "minimum number is:- 2\n"
     ]
    }
   ],
   "source": [
    "#progrsm of maximum and minimum number\n",
    "\n",
    "a = 2\n",
    "b = 4\n",
    "c = 6\n",
    "\n",
    "maximum = max(a, b ,c) \n",
    "print(\"maximum number is:-\",maximum)\n",
    "minimum = min(a, b ,c) \n",
    "print(\"minimum number is:-\",minimum)"
   ]
  },
  {
   "cell_type": "code",
   "execution_count": null,
   "metadata": {},
   "outputs": [],
   "source": []
  },
  {
   "cell_type": "code",
   "execution_count": 42,
   "metadata": {},
   "outputs": [
    {
     "name": "stdout",
     "output_type": "stream",
     "text": [
      "Enter a string: Hello to all Welcome to the World of Python and Let us all Come Together to Learn new Language\n",
      "Come\n",
      "Hello\n",
      "Language\n",
      "Learn\n",
      "Let\n",
      "Python\n",
      "Together\n",
      "Welcome\n",
      "World\n",
      "all\n",
      "all\n",
      "and\n",
      "new\n",
      "of\n",
      "the\n",
      "to\n",
      "to\n",
      "to\n",
      "us\n"
     ]
    }
   ],
   "source": [
    "#program to sort alphabetically in input method\n",
    "\n",
    "my_str = input(\"Enter a string: \")  \n",
    "words = my_str.split()  \n",
    "words.sort()    \n",
    "for word in words:  \n",
    "   print(word)  "
   ]
  },
  {
   "cell_type": "code",
   "execution_count": 41,
   "metadata": {},
   "outputs": [
    {
     "name": "stdout",
     "output_type": "stream",
     "text": [
      "The sorted words are:\n",
      "ALL\n",
      "ALL\n",
      "AND\n",
      "COME\n",
      "HELLO\n",
      "LANGUAGE\n",
      "LEARN\n",
      "LET\n",
      "NEW\n",
      "OF\n",
      "PYTHON\n",
      "THE\n",
      "TO\n",
      "TO\n",
      "TO\n",
      "TOGETHER\n",
      "US\n",
      "WELCOME\n",
      "WORLD\n"
     ]
    }
   ],
   "source": [
    "#program to sort alphabetically in upper case\n",
    "\n",
    "str = \"Hello to all Welcome to the World of Python and Let us all Come Together to Learn new Language\"\n",
    "words = [word.upper() for word in str.split()]\n",
    "words.sort()\n",
    "print(\"The sorted words are:\")\n",
    "for word in words:\n",
    "   print(word)"
   ]
  },
  {
   "cell_type": "code",
   "execution_count": 40,
   "metadata": {},
   "outputs": [
    {
     "name": "stdout",
     "output_type": "stream",
     "text": [
      "The sorted words are:\n",
      "all\n",
      "all\n",
      "and\n",
      "come\n",
      "hello\n",
      "language\n",
      "learn\n",
      "let\n",
      "new\n",
      "of\n",
      "python\n",
      "the\n",
      "to\n",
      "to\n",
      "to\n",
      "together\n",
      "us\n",
      "welcome\n",
      "world\n"
     ]
    }
   ],
   "source": [
    "#program to sort alphabetically in lower case\n",
    "\n",
    "str = \"Hello to all Welcome to the World of Python and Let us all Come Together to Learn new Language\"\n",
    "\n",
    "words = [word.lower() for word in str.split()]\n",
    "words.sort()\n",
    "print(\"The sorted words are:\")\n",
    "for word in words:\n",
    "   print(word)"
   ]
  },
  {
   "cell_type": "code",
   "execution_count": null,
   "metadata": {},
   "outputs": [],
   "source": []
  },
  {
   "cell_type": "code",
   "execution_count": 45,
   "metadata": {},
   "outputs": [
    {
     "name": "stdout",
     "output_type": "stream",
     "text": [
      "Enter value of x: 55\n",
      "Enter value of y: 44\n",
      "The value of x after swapping: 44\n",
      "The value of y after swapping: 55\n"
     ]
    }
   ],
   "source": [
    "# Python swap program \n",
    "\n",
    "x = input('Enter value of x: ')  \n",
    "y = input('Enter value of y: ')   \n",
    "temp = x  \n",
    "x = y  \n",
    "y = temp  \n",
    "  \n",
    "print('The value of x after swapping: {}'.format(x))  \n",
    "print('The value of y after swapping: {}'.format(y))  "
   ]
  },
  {
   "cell_type": "code",
   "execution_count": null,
   "metadata": {},
   "outputs": [],
   "source": []
  },
  {
   "cell_type": "code",
   "execution_count": 82,
   "metadata": {},
   "outputs": [
    {
     "name": "stdout",
     "output_type": "stream",
     "text": [
      "AAAAAAAAAAAAAAAAAAAA\n",
      "A                  A\n",
      "A                  A\n",
      "A                  A\n",
      "A                  A\n",
      "A                  A\n",
      "A                  A\n",
      "A                  A\n",
      "A                  A\n",
      "AAAAAAAAAAAAAAAAAAAA\n"
     ]
    }
   ],
   "source": [
    "def print_square(n, m) : \n",
    "  for i in range(1, n+1) : \n",
    "        for j in range(1, m+1) : \n",
    "            if (i == 1 or i == n or\n",
    "                j == 1 or j == m) : \n",
    "                print(\"A\", end=\"\")             \n",
    "            else : \n",
    "                print(\" \", end=\"\")             \n",
    "          \n",
    "        print()  \n",
    "rows = 10\n",
    "columns = 20\n",
    "print_square(rows, columns) "
   ]
  },
  {
   "cell_type": "code",
   "execution_count": null,
   "metadata": {},
   "outputs": [],
   "source": [
    "\n",
    "\n"
   ]
  },
  {
   "cell_type": "code",
   "execution_count": null,
   "metadata": {},
   "outputs": [],
   "source": []
  },
  {
   "cell_type": "code",
   "execution_count": null,
   "metadata": {},
   "outputs": [],
   "source": []
  },
  {
   "cell_type": "code",
   "execution_count": null,
   "metadata": {},
   "outputs": [],
   "source": []
  },
  {
   "cell_type": "code",
   "execution_count": null,
   "metadata": {},
   "outputs": [],
   "source": []
  },
  {
   "cell_type": "code",
   "execution_count": null,
   "metadata": {},
   "outputs": [],
   "source": []
  },
  {
   "cell_type": "code",
   "execution_count": null,
   "metadata": {},
   "outputs": [],
   "source": []
  }
 ],
 "metadata": {
  "kernelspec": {
   "display_name": "Python 3",
   "language": "python",
   "name": "python3"
  },
  "language_info": {
   "codemirror_mode": {
    "name": "ipython",
    "version": 3
   },
   "file_extension": ".py",
   "mimetype": "text/x-python",
   "name": "python",
   "nbconvert_exporter": "python",
   "pygments_lexer": "ipython3",
   "version": "3.8.5"
  }
 },
 "nbformat": 4,
 "nbformat_minor": 4
}
